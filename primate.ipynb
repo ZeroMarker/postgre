{
    "metadata": {
        "kernelspec": {
            "name": "SQL",
            "display_name": "SQL",
            "language": "sql"
        },
        "language_info": {
            "name": "sql",
            "version": ""
        }
    },
    "nbformat_minor": 2,
    "nbformat": 4,
    "cells": [
        {
            "cell_type": "code",
            "source": [
                "SELECT datname FROM pg_catalog.pg_database;"
            ],
            "metadata": {
                "azdata_cell_guid": "61a8ec78-4906-4e9d-8a72-4503df2f49c3",
                "language": "sql"
            },
            "outputs": [
                {
                    "output_type": "display_data",
                    "data": {
                        "text/html": "(4 row(s) affected)"
                    },
                    "metadata": {}
                },
                {
                    "output_type": "display_data",
                    "data": {
                        "text/html": "Total execution time: 00:00:00.372"
                    },
                    "metadata": {}
                },
                {
                    "output_type": "execute_result",
                    "metadata": {},
                    "execution_count": 2,
                    "data": {
                        "application/vnd.dataresource+json": {
                            "schema": {
                                "fields": [
                                    {
                                        "name": "datname"
                                    }
                                ]
                            },
                            "data": [
                                {
                                    "datname": "template1"
                                },
                                {
                                    "datname": "template0"
                                },
                                {
                                    "datname": "_aiven"
                                },
                                {
                                    "datname": "defaultdb"
                                }
                            ]
                        },
                        "text/html": [
                            "<table>",
                            "<tr><th>datname</th></tr>",
                            "<tr><td>template1</td></tr>",
                            "<tr><td>template0</td></tr>",
                            "<tr><td>_aiven</td></tr>",
                            "<tr><td>defaultdb</td></tr>",
                            "</table>"
                        ]
                    }
                }
            ],
            "execution_count": 2
        }
    ]
}